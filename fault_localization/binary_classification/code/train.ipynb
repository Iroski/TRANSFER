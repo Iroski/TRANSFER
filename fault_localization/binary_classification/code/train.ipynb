{
 "cells": [
  {
   "cell_type": "code",
   "execution_count": 1,
   "metadata": {},
   "outputs": [],
   "source": [
    "import os\n",
    "import sys\n",
    "import time\n",
    "import pickle\n",
    "import random\n",
    "import torch\n",
    "from model_embed import BinaryClassifier\n",
    "import numpy\n",
    "from e_embedding import EnhanceEmbedding"
   ]
  },
  {
   "cell_type": "code",
   "execution_count": 2,
   "metadata": {},
   "outputs": [],
   "source": [
    "def get_batch(x, y, idx, bs):\n",
    "\tx_batch = x[idx: idx+bs]\n",
    "\ty_batch = y[idx: idx+bs]\n",
    "\treturn x_batch, torch.LongTensor(y_batch)\n",
    "\n",
    "\n",
    "def load_from_file(file_path):\n",
    "\twith open(file_path, \"rb\") as file:\n",
    "\t\treturn pickle.load(file)\n",
    "\n",
    "\n",
    "def print_parameter_statistics(model):\n",
    "\ttotal_num = [p.numel() for p in model.parameters()]\n",
    "\ttrainable_num = [p.numel() for p in model.parameters() if p.requires_grad]\n",
    "\tprint(\"Total parameters: {}\".format(sum(total_num)))\n",
    "\tprint(\"Trainable parameters: {}\".format(sum(trainable_num)))"
   ]
  },
  {
   "cell_type": "code",
   "execution_count": 3,
   "metadata": {},
   "outputs": [
    {
     "name": "stdout",
     "output_type": "stream",
     "text": [
      "Fix pattern: InsertMissedStmt\n"
     ]
    }
   ],
   "source": [
    "fix_pattern = 'InsertMissedStmt'\n",
    "print(\"Fix pattern: {}\".format(fix_pattern))\n",
    "root = \"../data/{}/\".format(fix_pattern)\n",
    "\n",
    "train_x = load_from_file(os.path.join(root, \"train/x_w2v_new.pkl\"))\n",
    "# val_x = load_from_file(os.path.join(root, \"val/x_w2v_new.pkl\"))\n",
    "# test_x = load_from_file(os.path.join(root, \"test/x_w2v_new.pkl\"))\n",
    "\t\n",
    "train_y = load_from_file(os.path.join(root, \"train/y_.pkl\"))\n",
    "# val_y = load_from_file(os.path.join(root, \"val/y_.pkl\"))\n",
    "# test_y = load_from_file(os.path.join(root, \"test/y_.pkl\"))\n",
    "\n",
    "pretrain_vectors = load_from_file(os.path.join(root, \"vectors.pkl\"))"
   ]
  },
  {
   "cell_type": "code",
   "execution_count": 4,
   "metadata": {},
   "outputs": [],
   "source": [
    "HIDDEN_DIM = 50\n",
    "EPOCHS = 30\n",
    "BATCH_SIZE = 64\n",
    "LABELS = 2\n",
    "USE_GPU = True\n",
    "MAX_TOKENS = pretrain_vectors.shape[0]\n",
    "EMBEDDING_DIM = pretrain_vectors.shape[1]"
   ]
  },
  {
   "cell_type": "code",
   "execution_count": 5,
   "metadata": {},
   "outputs": [],
   "source": [
    "\n",
    "model = BinaryClassifier(EMBEDDING_DIM, HIDDEN_DIM, MAX_TOKENS, LABELS, pretrain_vectors).cuda()"
   ]
  },
  {
   "cell_type": "code",
   "execution_count": 6,
   "metadata": {},
   "outputs": [
    {
     "name": "stdout",
     "output_type": "stream",
     "text": [
      "Optimizer: Adam\n",
      "Loss function: CrossEntropyLoss\n",
      "Total parameters: 853418\n",
      "Trainable parameters: 853418\n"
     ]
    }
   ],
   "source": [
    "parameters = model.parameters()\n",
    "optimizer = torch.optim.Adam(parameters, lr=0.001)\n",
    "print(\"Optimizer: {}\".format(type(optimizer).__name__))\n",
    "loss_function = torch.nn.CrossEntropyLoss()\n",
    "print(\"Loss function: {}\".format(type(loss_function).__name__))\n",
    "print_parameter_statistics(model)"
   ]
  },
  {
   "cell_type": "code",
   "execution_count": 7,
   "metadata": {},
   "outputs": [],
   "source": [
    "random.seed(666)\n",
    "random.shuffle(train_x)\n",
    "random.seed(666)\n",
    "random.shuffle(train_y)"
   ]
  },
  {
   "cell_type": "code",
   "execution_count": 8,
   "metadata": {},
   "outputs": [],
   "source": [
    "model.train()\n",
    "total_acc = 0.0\n",
    "total_loss = 0.0\n",
    "total = 0\n",
    "total_tp = 0.0\n",
    "total_fp = 0.0\n",
    "total_fn = 0.0"
   ]
  },
  {
   "cell_type": "code",
   "execution_count": 9,
   "metadata": {},
   "outputs": [],
   "source": [
    "i = 0"
   ]
  },
  {
   "cell_type": "code",
   "execution_count": 10,
   "metadata": {},
   "outputs": [
    {
     "name": "stdout",
     "output_type": "stream",
     "text": [
      "torch.Size([64, 100, 400])\n",
      "400\n",
      "torch.Size([64, 100])\n"
     ]
    }
   ],
   "source": [
    "batch = get_batch(train_x, train_y, i, BATCH_SIZE)\n",
    "train_inputs, train_labels = batch\n",
    "if USE_GPU:\n",
    "    train_labels = train_labels.cuda()\n",
    "i += BATCH_SIZE\n",
    "model.zero_grad()\n",
    "output = model(train_inputs)\n",
    "loss = loss_function(output, train_labels)\n"
   ]
  },
  {
   "cell_type": "code",
   "execution_count": 11,
   "metadata": {},
   "outputs": [],
   "source": [
    "loss.backward()\n",
    "optimizer.step()\n",
    "\n",
    "_, predicted = torch.max(output.data, 1)\n",
    "total_acc += (predicted == train_labels).sum().item()\n",
    "total += len(train_inputs)\n",
    "total_loss += loss.item() * len(train_inputs)\n",
    "total_tp += (((predicted == 0).long() + (train_labels == 0).long()) == 2).sum().item()\n",
    "total_fp += (((predicted == 0).long() + (train_labels == 1).long()) == 2).sum().item()\n",
    "total_fn += (((predicted == 1).long() + (train_labels == 0).long()) == 2).sum().item()"
   ]
  },
  {
   "cell_type": "code",
   "execution_count": null,
   "metadata": {},
   "outputs": [],
   "source": []
  }
 ],
 "metadata": {
  "kernelspec": {
   "display_name": "Python 3.6.13 ('transfer': conda)",
   "language": "python",
   "name": "python3"
  },
  "language_info": {
   "codemirror_mode": {
    "name": "ipython",
    "version": 3
   },
   "file_extension": ".py",
   "mimetype": "text/x-python",
   "name": "python",
   "nbconvert_exporter": "python",
   "pygments_lexer": "ipython3",
   "version": "3.6.13"
  },
  "orig_nbformat": 4,
  "vscode": {
   "interpreter": {
    "hash": "22fcc13e4ce33af54b9bfdefb95036e9d5ed01c6c88ad48fe844413e6447d380"
   }
  }
 },
 "nbformat": 4,
 "nbformat_minor": 2
}
