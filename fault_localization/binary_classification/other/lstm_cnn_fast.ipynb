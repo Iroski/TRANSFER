{
 "cells": [
  {
   "cell_type": "code",
   "execution_count": 1,
   "metadata": {
    "scrolled": true
   },
   "outputs": [],
   "source": [
    "import torch\n",
    "import torch.nn as nn\n",
    "import torch.nn.functional as F\n",
    "import pandas as pd\n",
    "import jieba\n",
    "import os\n",
    "from torch.nn import init\n",
    "from torchtext import data\n",
    "from torchtext.vocab import Vectors\n",
    "import time\n",
    "import math\n",
    "\n",
    "device = torch.device('cuda' if torch.cuda.is_available() else 'cpu')\n",
    "device=torch.device('cpu')"
   ]
  },
  {
   "cell_type": "code",
   "execution_count": 2,
   "metadata": {},
   "outputs": [
    {
     "data": {
      "text/plain": [
       "device(type='cuda')"
      ]
     },
     "execution_count": 2,
     "metadata": {},
     "output_type": "execute_result"
    }
   ],
   "source": [
    "device = torch.device('cuda' if torch.cuda.is_available() else 'cpu')\n",
    "device"
   ]
  },
  {
   "cell_type": "markdown",
   "metadata": {},
   "source": [
    "# data processing"
   ]
  },
  {
   "cell_type": "code",
   "execution_count": 3,
   "metadata": {},
   "outputs": [],
   "source": [
    "# 分词\n",
    "def tokenizer(text): \n",
    "    return [word for word in jieba.lcut(text) if word not in stop_words]"
   ]
  },
  {
   "cell_type": "code",
   "execution_count": 4,
   "metadata": {},
   "outputs": [],
   "source": [
    "# 去停用词\n",
    "def get_stop_words():\n",
    "    file_object = open('stopwords.txt',encoding='utf-8')\n",
    "    stop_words = []\n",
    "    for line in file_object.readlines():\n",
    "        line = line[:-1]    #删除换行符 （？）\n",
    "        line = line.strip() #删除换行符 空格\n",
    "        stop_words.append(line)\n",
    "    return stop_words\n",
    "\n",
    "stop_words = get_stop_words()  # 加载停用词表"
   ]
  },
  {
   "cell_type": "code",
   "execution_count": 5,
   "metadata": {},
   "outputs": [],
   "source": [
    "# stop_words[:10]"
   ]
  },
  {
   "cell_type": "code",
   "execution_count": 6,
   "metadata": {},
   "outputs": [],
   "source": [
    "text = data.Field(sequential=True, #？\n",
    "                  lower=True,\n",
    "                  tokenize=tokenizer,\n",
    "                  fix_length=500,  #一句话的长度 不够会补全<pad>\n",
    "                  stop_words=stop_words) #定义处理方法\n",
    "label = data.Field(sequential=False)"
   ]
  },
  {
   "cell_type": "code",
   "execution_count": 7,
   "metadata": {},
   "outputs": [
    {
     "name": "stderr",
     "output_type": "stream",
     "text": [
      "Building prefix dict from the default dictionary ...\n",
      "Loading model from cache C:\\Users\\92798\\AppData\\Local\\Temp\\jieba.cache\n",
      "Loading model cost 0.612 seconds.\n",
      "Prefix dict has been built succesfully.\n"
     ]
    }
   ],
   "source": [
    "train, val = data.TabularDataset.splits( #TabularDataset适合处理csv tsv\n",
    "    path='',\n",
    "    skip_header=True,\n",
    "    train='large_data/10.tsv',\n",
    "    validation='large_data/1.tsv',\n",
    "    #train='large_data/1.tsv',\n",
    "    #validation='large_data/1.tsv',\n",
    "    format='tsv',\n",
    "    fields=[ ('label', label), ('text', text)],\n",
    ")"
   ]
  },
  {
   "cell_type": "code",
   "execution_count": 8,
   "metadata": {},
   "outputs": [],
   "source": [
    "# print(train[2].text) #第二行的内容\n",
    "# print(train[2].label) #第二行的标签\n",
    "\n",
    "# print(train[5].__dict__.keys())\n",
    "# print(train[5])"
   ]
  },
  {
   "cell_type": "code",
   "execution_count": 9,
   "metadata": {},
   "outputs": [],
   "source": [
    "#加载Google训练的词向量\n",
    "# import gensim\n",
    "# model = gensim.models.KeyedVectors.load_word2vec_format('myvector.vector', binary=False)"
   ]
  },
  {
   "cell_type": "code",
   "execution_count": 10,
   "metadata": {},
   "outputs": [],
   "source": [
    "# cache = '.vector_cache' #?\n",
    "# if not os.path.exists(cache):\n",
    "#     os.mkdir(cache)\n",
    "vectors = Vectors(\"word_embedding/chinese_wiki_embeding20000.txt\")\n",
    "# 指定Vector缺失值的初始化方式，没有命中的token的初始化方式\n",
    "#vectors.unk_init = nn.init.xavier_uniform_\n",
    "\n",
    "text.build_vocab(train, val, vectors=vectors)#加入测试集的vertor"
   ]
  },
  {
   "cell_type": "code",
   "execution_count": 11,
   "metadata": {},
   "outputs": [],
   "source": [
    "#text.build_vocab(train, val, vectors=Vectors(name='data/myvector.vector'))#加入测试集的vertor\n",
    "label.build_vocab(train, val)\n",
    "embedding_dim = text.vocab.vectors.size()[-1]\n",
    "vectors = text.vocab.vectors"
   ]
  },
  {
   "cell_type": "code",
   "execution_count": 12,
   "metadata": {},
   "outputs": [],
   "source": [
    "# text.vocab.freqs.most_common(10)\n",
    "# print(text.vocab.vectors.shape)"
   ]
  },
  {
   "cell_type": "code",
   "execution_count": 13,
   "metadata": {},
   "outputs": [],
   "source": [
    "batch_size=64\n",
    "train_iter, val_iter = data.Iterator.splits(\n",
    "            (train, val),\n",
    "            sort_key=lambda x: len(x.text),\n",
    "            batch_sizes=(batch_size, len(val)), # 训练集设置batch_size,验证集整个集合用于测试\n",
    "            device=device\n",
    "    )\n",
    "\n",
    "vocab_size = len(text.vocab)\n",
    "label_num = len(label.vocab)"
   ]
  },
  {
   "cell_type": "code",
   "execution_count": 14,
   "metadata": {},
   "outputs": [
    {
     "name": "stdout",
     "output_type": "stream",
     "text": [
      "tensor([ 9,  2,  3,  1,  6,  9,  5,  8,  6,  7,  7,  9,  6,  5,  6,  7,  6,  4,\n",
      "         4,  5,  8,  8, 10,  3,  8,  2,  3,  6,  6,  2,  3,  1,  1, 10,  6,  6,\n",
      "         6,  5,  5,  5,  5,  2,  5,  5,  3,  1,  9,  2,  5,  2,  1,  6,  7,  5,\n",
      "         7,  6,  1,  6,  2,  7, 10,  4,  8,  8], device='cuda:0')\n"
     ]
    }
   ],
   "source": [
    "batch = next(iter(train_iter))\n",
    "data = batch.label\n",
    "print(data)\n",
    "# print(batch.text.shape)\n",
    "# print(batch.text)\n"
   ]
  },
  {
   "cell_type": "code",
   "execution_count": 15,
   "metadata": {
    "scrolled": false
   },
   "outputs": [
    {
     "name": "stdout",
     "output_type": "stream",
     "text": [
      "defaultdict(<bound method Vocab._default_unk_index of <torchtext.vocab.Vocab object at 0x000002A794897C08>>, {'<unk>': 0, '娱乐': 1, '科技': 2, '时政': 3, '教育': 4, '体育': 5, '游戏': 6, '家居': 7, '财经': 8, '时尚': 9, '房产': 10})\n"
     ]
    }
   ],
   "source": [
    "print(label.vocab.stoi)"
   ]
  },
  {
   "cell_type": "markdown",
   "metadata": {},
   "source": [
    "# model"
   ]
  },
  {
   "cell_type": "code",
   "execution_count": 16,
   "metadata": {},
   "outputs": [],
   "source": [
    "class BiRNN(nn.Module):\n",
    "    def __init__(self, vocab_size, embedding_dim, num_hiddens, num_layers,n_filter,filter_size):\n",
    "        super(BiRNN, self).__init__()\n",
    "        self.word_embeddings = nn.Embedding(vocab_size, embedding_dim)  # embedding之后的shape: torch.Size([128, 100, 100])\n",
    "        self.word_embeddings = self.word_embeddings.from_pretrained(vectors, freeze=False)\n",
    "        # bidirectional设为True即得到双向循环神经网络\n",
    "        self.encoder = nn.LSTM(input_size=embedding_dim, \n",
    "                                hidden_size=num_hiddens, \n",
    "                                num_layers=num_layers,\n",
    "                                batch_first=True,\n",
    "                                bidirectional=True)\n",
    "        \n",
    "        #第一个CNN\n",
    "        self.conv1=nn.Sequential(\n",
    "            nn.Conv2d(in_channels=1,\n",
    "                     out_channels=n_filter,\n",
    "                     kernel_size=(filter_size[0],300), \n",
    "                     stride=1,\n",
    "                     padding=0), # 输出 [498,1]\n",
    "            nn.BatchNorm2d(n_filter),\n",
    "            nn.ReLU()\n",
    "        )\n",
    "        \n",
    "        \n",
    "        self.conv2=nn.Sequential(\n",
    "            nn.Conv2d(n_filter,n_filter*2,(filter_size[1],1),1,0), #[245,1]\n",
    "            nn.BatchNorm2d(n_filter*2),\n",
    "            nn.ReLU())\n",
    "        \n",
    "        self.conv3=nn.Sequential(\n",
    "            nn.Conv2d(n_filter*2,n_filter*4,(filter_size[2],1),1,0), #[120,1]   \n",
    "            nn.BatchNorm2d(n_filter*4),\n",
    "            nn.ReLU())\n",
    "        self.conv4=nn.Sequential(\n",
    "            nn.Conv2d(n_filter*4,n_filter*4,(filter_size[2],1),1,0), #[58,1]   \n",
    "            nn.BatchNorm2d(n_filter*4),\n",
    "            nn.ReLU())\n",
    "        \n",
    "        #第二个CNN\n",
    "        self.conv5=nn.Sequential(\n",
    "            nn.Conv2d(in_channels=1,\n",
    "                     out_channels=n_filter,\n",
    "                     kernel_size=(filter_size[3],300), \n",
    "                     stride=1,\n",
    "                     padding=0), # 输出 [497,1]\n",
    "            nn.BatchNorm2d(n_filter),\n",
    "            nn.ReLU()\n",
    "        )\n",
    "        \n",
    "        self.conv6=nn.Sequential(\n",
    "            nn.Conv2d(n_filter,n_filter*2,(filter_size[4],1),1,0), #[246,1]\n",
    "            nn.BatchNorm2d(n_filter*2),\n",
    "            nn.ReLU())\n",
    "        \n",
    "        self.conv7=nn.Sequential(\n",
    "            nn.Conv2d(n_filter*2,n_filter*4,(filter_size[5],1),1,0), #[122,1]\n",
    "            nn.BatchNorm2d(n_filter*4),\n",
    "            nn.ReLU())\n",
    "        self.conv8=nn.Sequential(\n",
    "            nn.Conv2d(n_filter*4,n_filter*4,(filter_size[5],1),1,0), #[60,1]   \n",
    "            nn.BatchNorm2d(n_filter*4),\n",
    "            nn.ReLU())\n",
    "        \n",
    "        \n",
    "        self.pool1=nn.MaxPool2d(\n",
    "            kernel_size=(2,1),  #[8,1]\n",
    "            stride=(2,1),\n",
    "            padding=0)\n",
    "        \n",
    "        self.pool2=nn.MaxPool2d(\n",
    "            kernel_size=(29,1),  #[32,7,1]\n",
    "            stride=(29,1),\n",
    "            padding=0)\n",
    "        self.pool3=nn.MaxPool2d(\n",
    "            kernel_size=(20,1),  #[32,7,1]\n",
    "            stride=(20,1),\n",
    "            padding=0)\n",
    "        self.decoder=nn.Linear(800,10)\n",
    "        \n",
    "        \n",
    "    def attention(self,query,keys,values, dropout=None):\n",
    "        d_k = keys.size(-1)  # 64=d_k\n",
    "#         print(\"query\",query.shape)\n",
    "        scores = torch.matmul(query, keys) /math.sqrt(d_k)\n",
    "#        print(\"scores\",scores.shape)\n",
    "        p_attn = F.softmax(scores, dim=-1)\n",
    "#        print(\"p_attn\",p_attn.shape)\n",
    "        # 对scores的最后一个维度执行softmax，得到的还是一个tensor,\n",
    "        # (30, 8, 10, 11)\n",
    "        if dropout is not None:\n",
    "            p_attn = dropout(p_attn)  # 执行一次dropout\n",
    "        fea  = torch.matmul(p_attn, values.transpose(-2, -1))\n",
    "        return fea, p_attn\n",
    "    \n",
    "    def forward(self, inputs):\n",
    "        # inputs的形状是(批量大小, 词数)，因为LSTM需要将序列长度(seq_len)作为第一维，所以将输入转置后\n",
    "        # 再提取词特征，输出形状为(词数, 批量大小, 词向量维度)\n",
    "        embeddings = self.word_embeddings(inputs)\n",
    "        fast_embeddings=F.avg_pool2d(embeddings,(2,1),stride=1)\n",
    "        \n",
    "        #对embedding进行Lstm\n",
    "        # outputs形状是(词数, 批量大小, 2 * 隐藏单元个数)\n",
    "        outputs, _ = self.encoder(embeddings) # output, (h, c)\n",
    "        feature_lstm=outputs\n",
    "        \n",
    "        \n",
    "        #对embedding进行CNN\n",
    "        #print(outputs.shape)\n",
    "        outputs_pred=outputs.unsqueeze(1) #转换后的矩阵为[batch,seq_len,2*hidden_state] [128，100，2*64]\n",
    "        #print(feature1.shape)\n",
    "        feature1=self.conv1(embeddings.unsqueeze(1)) #[128,32,490,1]\n",
    "        feature1=self.pool1(feature1)\n",
    "        feature1=self.conv2(feature1)\n",
    "        feature1=self.pool1(feature1)\n",
    "        feature1=self.conv3(feature1)\n",
    "        feature1=self.pool1(feature1)\n",
    "        feature1=self.conv4(feature1)\n",
    "        feature1=self.pool2(feature1).squeeze(2) #输出 [batch,层数, H,W] #[128,32,7]\n",
    "        feature1=feature1.reshape(-1,feature1.shape[1]*feature1.shape[2])\n",
    "        feature2=self.conv5(embeddings.unsqueeze(1)) #[128,32,480,1]\n",
    "        feature2=self.pool1(feature2)\n",
    "        feature2=self.conv6(feature2)\n",
    "        feature2=self.pool1(feature2)\n",
    "        feature2=self.conv7(feature2)\n",
    "        feature2=self.pool1(feature2)\n",
    "        feature2=self.conv8(feature2)\n",
    "        feature2=self.pool3(feature2).squeeze(2) #输出 [batch,层数, H,W] #[128,32,8])\n",
    "        feature2=feature2.reshape(-1,feature2.shape[1]*feature2.shape[2]) #feature2=[batch_size, 32*8=]\n",
    "        feature_cnn=torch.cat((feature1,feature2),dim=1).unsqueeze(1)\n",
    "        feature_cnn=F.dropout(feature_cnn,p=0.5,training=self.training)\n",
    "        print(\"cnn\",feature_cnn.shape)\n",
    "        print(\"lstm\",feature_lstm.shape)\n",
    "        feature_ft=F.avg_pool2d(fast_embeddings,(embeddings.shape[1]-1,1)).squeeze(1)  #feature_ft = [batch size, embedding_dim]\n",
    "        \n",
    "        fea_attn,attnMatrix=self.attention(feature_cnn,feature_lstm,feature_lstm)\n",
    "        fea_attn=fea_attn.reshape(fea_attn.shape[0],-1)\n",
    "    \n",
    "        Fea=torch.cat((fea_attn,feature_ft),dim=1)\n",
    "        print(\"fea_attn\",fea_attn.shape)\n",
    "        print(\"feature_ft\",feature_ft.shape)\n",
    "        outs = self.decoder(Fea)\n",
    "        return outs"
   ]
  },
  {
   "cell_type": "code",
   "execution_count": 17,
   "metadata": {},
   "outputs": [],
   "source": [
    "embedding_dim, num_hiddens, num_layers = 300, 64, 1\n",
    "n_filter=25\n",
    "filter_size=[5,4,3,4,3,2]\n",
    "net = BiRNN(vocab_size, embedding_dim, num_hiddens, num_layers,n_filter,filter_size)\n",
    "#print(net)"
   ]
  },
  {
   "cell_type": "markdown",
   "metadata": {},
   "source": [
    "# train"
   ]
  },
  {
   "cell_type": "code",
   "execution_count": 18,
   "metadata": {},
   "outputs": [],
   "source": [
    "def evaluate_accuracy(data_iter, net):\n",
    "    acc_sum, n = 0.0, 0\n",
    "    with torch.no_grad():\n",
    "        for batch_idx, batch in enumerate(train_iter):\n",
    "            X, y = batch.text, batch.label\n",
    "            X = X.permute(1, 0)\n",
    "#             print(y.data)\n",
    "            y.data.sub_(1)  #X转置 y要减1：计算习惯，0代表第一类，1代表第二类\n",
    "            if isinstance(net, torch.nn.Module):\n",
    "                net.eval() # 评估模式, 这会关闭dropout\n",
    "                acc_sum += (net(X).argmax(dim=1) == y).float().sum().item()\n",
    "                net.train() # 改回训练模式\n",
    "            else: # 自定义的模型, 不考虑GPU\n",
    "                if('is_training' in net.__code__.co_varnames): # 如果有is_training这个参数\n",
    "                    # 将is_training设置成False\n",
    "                    acc_sum += (net(X, is_training=False).argmax(dim=1) == y).float().sum().item() \n",
    "                else:\n",
    "                    acc_sum += (net(X).argmax(dim=1) == y).float().sum().item() \n",
    "            n += y.shape[0]\n",
    "    return acc_sum / n"
   ]
  },
  {
   "cell_type": "code",
   "execution_count": 19,
   "metadata": {},
   "outputs": [],
   "source": [
    "def train(train_iter, test_iter, net, loss, optimizer, num_epochs):\n",
    "    batch_count = 0\n",
    "    epoch_list_train=[]\n",
    "    epoch_list_val=[]\n",
    "    epoch_list_loss=[]\n",
    "    first_loss=0\n",
    "    flag=1\n",
    "    for epoch in range(num_epochs):\n",
    "        train_l_sum, train_acc_sum, n, start = 0.0, 0.0, 0, time.time()\n",
    "        for batch_idx, batch in enumerate(train_iter):\n",
    "            #print(\"batch:\"+str(batch_idx))\n",
    "            X, y = batch.text, batch.label\n",
    "            X = X.permute(1, 0)\n",
    "            y.data.sub_(1)  #X转置 y为啥要减1\n",
    "            y_hat = net(X)\n",
    "            l = loss(y_hat, y)\n",
    "            if flag==1:\n",
    "                flag=0\n",
    "                first_loss=l.item()\n",
    "            optimizer.zero_grad()\n",
    "            l.backward()\n",
    "            optimizer.step()\n",
    "            train_l_sum += l.item()\n",
    "            train_acc_sum += (y_hat.argmax(dim=1) == y).sum().item()\n",
    "            n += y.shape[0]\n",
    "            batch_count += 1\n",
    "        test_acc = evaluate_accuracy(test_iter, net)\n",
    "        print(\n",
    "            'epoch %d, loss %.4f, train acc %.3f, test acc %.3f, time %.1f sec'\n",
    "            % (epoch + 1, train_l_sum / batch_count, train_acc_sum / n,\n",
    "               test_acc, time.time() - start))\n",
    "        epoch_list_loss.append(train_l_sum / batch_count)\n",
    "        epoch_list_train.append(train_acc_sum / n)\n",
    "        epoch_list_val.append(test_acc)\n",
    "    return epoch_list_loss,epoch_list_train,epoch_list_val,first_loss"
   ]
  },
  {
   "cell_type": "code",
   "execution_count": 20,
   "metadata": {},
   "outputs": [
    {
     "name": "stdout",
     "output_type": "stream",
     "text": [
      "cnn torch.Size([64, 1, 500])\n",
      "lstm torch.Size([64, 500, 128])\n",
      "fea_attn torch.Size([64, 500])\n",
      "feature_ft torch.Size([64, 300])\n",
      "cnn torch.Size([64, 1, 500])\n",
      "lstm torch.Size([64, 500, 128])\n",
      "fea_attn torch.Size([64, 500])\n",
      "feature_ft torch.Size([64, 300])\n",
      "cnn torch.Size([64, 1, 500])\n",
      "lstm torch.Size([64, 500, 128])\n",
      "fea_attn torch.Size([64, 500])\n",
      "feature_ft torch.Size([64, 300])\n",
      "cnn torch.Size([64, 1, 500])\n",
      "lstm torch.Size([64, 500, 128])\n",
      "fea_attn torch.Size([64, 500])\n",
      "feature_ft torch.Size([64, 300])\n",
      "cnn torch.Size([64, 1, 500])\n",
      "lstm torch.Size([64, 500, 128])\n",
      "fea_attn torch.Size([64, 500])\n",
      "feature_ft torch.Size([64, 300])\n",
      "cnn torch.Size([64, 1, 500])\n",
      "lstm torch.Size([64, 500, 128])\n",
      "fea_attn torch.Size([64, 500])\n",
      "feature_ft torch.Size([64, 300])\n",
      "cnn torch.Size([64, 1, 500])\n",
      "lstm torch.Size([64, 500, 128])\n",
      "fea_attn torch.Size([64, 500])\n",
      "feature_ft torch.Size([64, 300])\n",
      "cnn torch.Size([64, 1, 500])\n",
      "lstm torch.Size([64, 500, 128])\n",
      "fea_attn torch.Size([64, 500])\n",
      "feature_ft torch.Size([64, 300])\n",
      "cnn torch.Size([64, 1, 500])\n",
      "lstm torch.Size([64, 500, 128])\n",
      "fea_attn torch.Size([64, 500])\n",
      "feature_ft torch.Size([64, 300])\n",
      "cnn torch.Size([64, 1, 500])\n",
      "lstm torch.Size([64, 500, 128])\n",
      "fea_attn torch.Size([64, 500])\n",
      "feature_ft torch.Size([64, 300])\n",
      "cnn torch.Size([64, 1, 500])\n",
      "lstm torch.Size([64, 500, 128])\n",
      "fea_attn torch.Size([64, 500])\n",
      "feature_ft torch.Size([64, 300])\n",
      "cnn torch.Size([64, 1, 500])\n",
      "lstm torch.Size([64, 500, 128])\n",
      "fea_attn torch.Size([64, 500])\n",
      "feature_ft torch.Size([64, 300])\n",
      "cnn torch.Size([64, 1, 500])\n",
      "lstm torch.Size([64, 500, 128])\n",
      "fea_attn torch.Size([64, 500])\n",
      "feature_ft torch.Size([64, 300])\n",
      "cnn torch.Size([64, 1, 500])\n",
      "lstm torch.Size([64, 500, 128])\n",
      "fea_attn torch.Size([64, 500])\n",
      "feature_ft torch.Size([64, 300])\n",
      "cnn torch.Size([64, 1, 500])\n",
      "lstm torch.Size([64, 500, 128])\n",
      "fea_attn torch.Size([64, 500])\n",
      "feature_ft torch.Size([64, 300])\n",
      "cnn torch.Size([64, 1, 500])\n",
      "lstm torch.Size([64, 500, 128])\n",
      "fea_attn torch.Size([64, 500])\n",
      "feature_ft torch.Size([64, 300])\n",
      "cnn torch.Size([64, 1, 500])\n",
      "lstm torch.Size([64, 500, 128])\n",
      "fea_attn torch.Size([64, 500])\n",
      "feature_ft torch.Size([64, 300])\n"
     ]
    },
    {
     "ename": "KeyboardInterrupt",
     "evalue": "",
     "output_type": "error",
     "traceback": [
      "\u001b[1;31m---------------------------------------------------------------------------\u001b[0m",
      "\u001b[1;31mKeyboardInterrupt\u001b[0m                         Traceback (most recent call last)",
      "\u001b[1;32m<ipython-input-20-0d053e50e45f>\u001b[0m in \u001b[0;36m<module>\u001b[1;34m\u001b[0m\n\u001b[0;32m      3\u001b[0m \u001b[0moptimizer\u001b[0m \u001b[1;33m=\u001b[0m \u001b[0mtorch\u001b[0m\u001b[1;33m.\u001b[0m\u001b[0moptim\u001b[0m\u001b[1;33m.\u001b[0m\u001b[0mAdam\u001b[0m\u001b[1;33m(\u001b[0m\u001b[0mnet\u001b[0m\u001b[1;33m.\u001b[0m\u001b[0mparameters\u001b[0m\u001b[1;33m(\u001b[0m\u001b[1;33m)\u001b[0m\u001b[1;33m,\u001b[0m \u001b[0mlr\u001b[0m\u001b[1;33m=\u001b[0m\u001b[0mlr\u001b[0m\u001b[1;33m)\u001b[0m\u001b[1;33m\u001b[0m\u001b[1;33m\u001b[0m\u001b[0m\n\u001b[0;32m      4\u001b[0m \u001b[0mloss\u001b[0m \u001b[1;33m=\u001b[0m \u001b[0mnn\u001b[0m\u001b[1;33m.\u001b[0m\u001b[0mCrossEntropyLoss\u001b[0m\u001b[1;33m(\u001b[0m\u001b[1;33m)\u001b[0m\u001b[1;33m.\u001b[0m\u001b[0mto\u001b[0m\u001b[1;33m(\u001b[0m\u001b[0mdevice\u001b[0m\u001b[1;33m)\u001b[0m\u001b[1;33m\u001b[0m\u001b[1;33m\u001b[0m\u001b[0m\n\u001b[1;32m----> 5\u001b[1;33m \u001b[0mepoch_list_loss\u001b[0m\u001b[1;33m,\u001b[0m\u001b[0mepoch_list_train\u001b[0m\u001b[1;33m,\u001b[0m\u001b[0mepoch_list_val\u001b[0m\u001b[1;33m,\u001b[0m\u001b[0mfirst_loss\u001b[0m\u001b[1;33m=\u001b[0m\u001b[0mtrain\u001b[0m\u001b[1;33m(\u001b[0m\u001b[0mtrain_iter\u001b[0m\u001b[1;33m,\u001b[0m \u001b[0mval_iter\u001b[0m\u001b[1;33m,\u001b[0m \u001b[0mnet\u001b[0m\u001b[1;33m,\u001b[0m \u001b[0mloss\u001b[0m\u001b[1;33m,\u001b[0m \u001b[0moptimizer\u001b[0m\u001b[1;33m,\u001b[0m \u001b[0mnum_epochs\u001b[0m\u001b[1;33m)\u001b[0m\u001b[1;31m#本文网络\u001b[0m\u001b[1;33m\u001b[0m\u001b[1;33m\u001b[0m\u001b[0m\n\u001b[0m",
      "\u001b[1;32m<ipython-input-19-c2ea3109ece0>\u001b[0m in \u001b[0;36mtrain\u001b[1;34m(train_iter, test_iter, net, loss, optimizer, num_epochs)\u001b[0m\n\u001b[0;32m     19\u001b[0m                 \u001b[0mfirst_loss\u001b[0m\u001b[1;33m=\u001b[0m\u001b[0ml\u001b[0m\u001b[1;33m.\u001b[0m\u001b[0mitem\u001b[0m\u001b[1;33m(\u001b[0m\u001b[1;33m)\u001b[0m\u001b[1;33m\u001b[0m\u001b[1;33m\u001b[0m\u001b[0m\n\u001b[0;32m     20\u001b[0m             \u001b[0moptimizer\u001b[0m\u001b[1;33m.\u001b[0m\u001b[0mzero_grad\u001b[0m\u001b[1;33m(\u001b[0m\u001b[1;33m)\u001b[0m\u001b[1;33m\u001b[0m\u001b[1;33m\u001b[0m\u001b[0m\n\u001b[1;32m---> 21\u001b[1;33m             \u001b[0ml\u001b[0m\u001b[1;33m.\u001b[0m\u001b[0mbackward\u001b[0m\u001b[1;33m(\u001b[0m\u001b[1;33m)\u001b[0m\u001b[1;33m\u001b[0m\u001b[1;33m\u001b[0m\u001b[0m\n\u001b[0m\u001b[0;32m     22\u001b[0m             \u001b[0moptimizer\u001b[0m\u001b[1;33m.\u001b[0m\u001b[0mstep\u001b[0m\u001b[1;33m(\u001b[0m\u001b[1;33m)\u001b[0m\u001b[1;33m\u001b[0m\u001b[1;33m\u001b[0m\u001b[0m\n\u001b[0;32m     23\u001b[0m             \u001b[0mtrain_l_sum\u001b[0m \u001b[1;33m+=\u001b[0m \u001b[0ml\u001b[0m\u001b[1;33m.\u001b[0m\u001b[0mitem\u001b[0m\u001b[1;33m(\u001b[0m\u001b[1;33m)\u001b[0m\u001b[1;33m\u001b[0m\u001b[1;33m\u001b[0m\u001b[0m\n",
      "\u001b[1;32mF:\\anaconda3\\envs\\d_l\\lib\\site-packages\\torch\\tensor.py\u001b[0m in \u001b[0;36mbackward\u001b[1;34m(self, gradient, retain_graph, create_graph)\u001b[0m\n\u001b[0;32m    183\u001b[0m                 \u001b[0mproducts\u001b[0m\u001b[1;33m.\u001b[0m \u001b[0mDefaults\u001b[0m \u001b[0mto\u001b[0m\u001b[0;31m \u001b[0m\u001b[0;31m`\u001b[0m\u001b[0;31m`\u001b[0m\u001b[1;32mFalse\u001b[0m\u001b[0;31m`\u001b[0m\u001b[0;31m`\u001b[0m\u001b[1;33m.\u001b[0m\u001b[1;33m\u001b[0m\u001b[1;33m\u001b[0m\u001b[0m\n\u001b[0;32m    184\u001b[0m         \"\"\"\n\u001b[1;32m--> 185\u001b[1;33m         \u001b[0mtorch\u001b[0m\u001b[1;33m.\u001b[0m\u001b[0mautograd\u001b[0m\u001b[1;33m.\u001b[0m\u001b[0mbackward\u001b[0m\u001b[1;33m(\u001b[0m\u001b[0mself\u001b[0m\u001b[1;33m,\u001b[0m \u001b[0mgradient\u001b[0m\u001b[1;33m,\u001b[0m \u001b[0mretain_graph\u001b[0m\u001b[1;33m,\u001b[0m \u001b[0mcreate_graph\u001b[0m\u001b[1;33m)\u001b[0m\u001b[1;33m\u001b[0m\u001b[1;33m\u001b[0m\u001b[0m\n\u001b[0m\u001b[0;32m    186\u001b[0m \u001b[1;33m\u001b[0m\u001b[0m\n\u001b[0;32m    187\u001b[0m     \u001b[1;32mdef\u001b[0m \u001b[0mregister_hook\u001b[0m\u001b[1;33m(\u001b[0m\u001b[0mself\u001b[0m\u001b[1;33m,\u001b[0m \u001b[0mhook\u001b[0m\u001b[1;33m)\u001b[0m\u001b[1;33m:\u001b[0m\u001b[1;33m\u001b[0m\u001b[1;33m\u001b[0m\u001b[0m\n",
      "\u001b[1;32mF:\\anaconda3\\envs\\d_l\\lib\\site-packages\\torch\\autograd\\__init__.py\u001b[0m in \u001b[0;36mbackward\u001b[1;34m(tensors, grad_tensors, retain_graph, create_graph, grad_variables)\u001b[0m\n\u001b[0;32m    125\u001b[0m     Variable._execution_engine.run_backward(\n\u001b[0;32m    126\u001b[0m         \u001b[0mtensors\u001b[0m\u001b[1;33m,\u001b[0m \u001b[0mgrad_tensors\u001b[0m\u001b[1;33m,\u001b[0m \u001b[0mretain_graph\u001b[0m\u001b[1;33m,\u001b[0m \u001b[0mcreate_graph\u001b[0m\u001b[1;33m,\u001b[0m\u001b[1;33m\u001b[0m\u001b[1;33m\u001b[0m\u001b[0m\n\u001b[1;32m--> 127\u001b[1;33m         allow_unreachable=True)  # allow_unreachable flag\n\u001b[0m\u001b[0;32m    128\u001b[0m \u001b[1;33m\u001b[0m\u001b[0m\n\u001b[0;32m    129\u001b[0m \u001b[1;33m\u001b[0m\u001b[0m\n",
      "\u001b[1;31mKeyboardInterrupt\u001b[0m: "
     ]
    }
   ],
   "source": [
    "lr, num_epochs = 0.01, 1\n",
    "net=net.to(device)\n",
    "optimizer = torch.optim.Adam(net.parameters(), lr=lr)\n",
    "loss = nn.CrossEntropyLoss().to(device)\n",
    "epoch_list_loss,epoch_list_train,epoch_list_val,first_loss=train(train_iter, val_iter, net, loss, optimizer, num_epochs)ii"
   ]
  },
  {
   "cell_type": "code",
   "execution_count": 21,
   "metadata": {},
   "outputs": [],
   "source": [
    "import time,csv\n",
    " \n",
    "localtime = time.asctime( time.localtime(time.time()) )\n",
    "result=epoch_list_loss+epoch_list_train+epoch_list_val"
   ]
  },
  {
   "cell_type": "code",
   "execution_count": 22,
   "metadata": {},
   "outputs": [],
   "source": [
    "filepath=\"result/\"+str(localtime).replace(\":\",\" \")+\".txt\"\n",
    "with open(filepath,'w',encoding='utf-8') as f_output:\n",
    "    tsv_output=csv.writer(f_output,delimiter=',')\n",
    "    tsv_output.writerow(result)"
   ]
  },
  {
   "cell_type": "code",
   "execution_count": 23,
   "metadata": {},
   "outputs": [
    {
     "name": "stdout",
     "output_type": "stream",
     "text": [
      "2.297832727432251\n"
     ]
    }
   ],
   "source": [
    "print(first_loss)"
   ]
  },
  {
   "cell_type": "code",
   "execution_count": 24,
   "metadata": {},
   "outputs": [],
   "source": [
    "# test_acc = evaluate_accuracy(val_iter, net)\n",
    "# print(test_acc)"
   ]
  },
  {
   "cell_type": "code",
   "execution_count": 25,
   "metadata": {},
   "outputs": [
    {
     "ename": "NameError",
     "evalue": "name '_20' is not defined",
     "output_type": "error",
     "traceback": [
      "\u001b[1;31m---------------------------------------------------------------------------\u001b[0m",
      "\u001b[1;31mNameError\u001b[0m                                 Traceback (most recent call last)",
      "\u001b[1;32m<ipython-input-25-317e3ad7c21e>\u001b[0m in \u001b[0;36m<module>\u001b[1;34m\u001b[0m\n\u001b[1;32m----> 1\u001b[1;33m \u001b[0m_20\u001b[0m\u001b[1;33m\u001b[0m\u001b[1;33m\u001b[0m\u001b[0m\n\u001b[0m",
      "\u001b[1;31mNameError\u001b[0m: name '_20' is not defined"
     ]
    }
   ],
   "source": [
    "_20"
   ]
  },
  {
   "cell_type": "code",
   "execution_count": null,
   "metadata": {},
   "outputs": [],
   "source": []
  }
 ],
 "metadata": {
  "kernelspec": {
   "display_name": "Python 3 (ipykernel)",
   "language": "python",
   "name": "python3"
  },
  "language_info": {
   "codemirror_mode": {
    "name": "ipython",
    "version": 3
   },
   "file_extension": ".py",
   "mimetype": "text/x-python",
   "name": "python",
   "nbconvert_exporter": "python",
   "pygments_lexer": "ipython3",
   "version": "3.7.12"
  },
  "toc": {
   "base_numbering": 1,
   "nav_menu": {},
   "number_sections": true,
   "sideBar": true,
   "skip_h1_title": false,
   "title_cell": "Table of Contents",
   "title_sidebar": "Contents",
   "toc_cell": false,
   "toc_position": {},
   "toc_section_display": true,
   "toc_window_display": false
  },
  "varInspector": {
   "cols": {
    "lenName": 16,
    "lenType": 16,
    "lenVar": 40
   },
   "kernels_config": {
    "python": {
     "delete_cmd_postfix": "",
     "delete_cmd_prefix": "del ",
     "library": "var_list.py",
     "varRefreshCmd": "print(var_dic_list())"
    },
    "r": {
     "delete_cmd_postfix": ") ",
     "delete_cmd_prefix": "rm(",
     "library": "var_list.r",
     "varRefreshCmd": "cat(var_dic_list()) "
    }
   },
   "oldHeight": 263.875222,
   "position": {
    "height": "40px",
    "left": "672.097px",
    "right": "20px",
    "top": "40px",
    "width": "350px"
   },
   "types_to_exclude": [
    "module",
    "function",
    "builtin_function_or_method",
    "instance",
    "_Feature"
   ],
   "varInspector_section_display": "none",
   "window_display": false
  }
 },
 "nbformat": 4,
 "nbformat_minor": 4
}
