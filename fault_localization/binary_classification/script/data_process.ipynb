{
 "cells": [
  {
   "cell_type": "code",
   "execution_count": 1,
   "metadata": {
    "collapsed": true
   },
   "outputs": [],
   "source": [
    "import os\n",
    "import javalang\n",
    "import pickle\n",
    "from gensim.models.word2vec import Word2Vec\n",
    "import numpy as np\n",
    "import re\n",
    "import string\n",
    "import random\n",
    "import sys"
   ]
  },
  {
   "cell_type": "code",
   "execution_count": 9,
   "outputs": [],
   "source": [
    "def solve_camel_and_underline(token):\n",
    "\tif token.isdigit():\n",
    "\t\treturn [token]\n",
    "\telse:\n",
    "\t\tp = re.compile(r'([a-z]|\\d)([A-Z])')\n",
    "\t\tsub = re.sub(p, r'\\1_\\2', token).lower() #lowercase\n",
    "\t\tsub_tokens = sub.split(\"_\")\n",
    "\t\ttokens = re.sub(\" +\", \" \", \" \".join(sub_tokens)).strip()\n",
    "\t\tfinal_token = []\n",
    "\t\tfor factor in tokens.split(\" \"):\n",
    "\t\t\tfinal_token.append(factor.rstrip(string.digits))\n",
    "\t\treturn final_token\n"
   ],
   "metadata": {
    "collapsed": false,
    "pycharm": {
     "name": "#%%\n"
    }
   }
  },
  {
   "cell_type": "code",
   "execution_count": 3,
   "outputs": [],
   "source": [
    "def cut_data(token_seq, token_length_for_reserve):\n",
    "\tif len(token_seq) <= token_length_for_reserve:\n",
    "\t\treturn token_seq\n",
    "\telse:\n",
    "\t\tstart_index = token_seq.index(\"rank2fixstart\")\n",
    "\t\tend_index = token_seq.index(\"rank2fixend\")\n",
    "\t\tassert end_index > start_index\n",
    "\t\tlength_of_annotated_statement = end_index - start_index + 1\n",
    "\t\tif length_of_annotated_statement <= token_length_for_reserve:\n",
    "\t\t\tpadding_length = token_length_for_reserve - length_of_annotated_statement\n",
    "\t\t\t# give 2/3 padding space to content before annotated statement\n",
    "\t\t\tpre_padding_length = padding_length // 3 * 2\n",
    "\t\t\t# give 1/3 padding space to content after annotated statement\n",
    "\t\t\tpost_padding_length = padding_length - pre_padding_length\n",
    "\t\t\tif start_index >= pre_padding_length and len(token_seq) - end_index - 1 >= post_padding_length:\n",
    "\t\t\t\treturn token_seq[start_index - pre_padding_length: end_index + 1 + post_padding_length]\n",
    "\t\t\telif start_index < pre_padding_length:\n",
    "\t\t\t\treturn token_seq[:token_length_for_reserve]\n",
    "\t\t\telif len(token_seq) - end_index - 1 < post_padding_length:\n",
    "\t\t\t\treturn token_seq[len(token_seq) - token_length_for_reserve:]\n",
    "\t\telse:\n",
    "\t\t\treturn token_seq[start_index: start_index + token_length_for_reserve]"
   ],
   "metadata": {
    "collapsed": false,
    "pycharm": {
     "name": "#%%\n"
    }
   }
  },
  {
   "cell_type": "code",
   "execution_count": 29,
   "outputs": [],
   "source": [
    "method='public void method1(int i){\\n rank2fixstart String AaBoy=new String(\"123\"); rank2fixstart\\nint b=1;\\nSystem.out.println(a);\\n}'"
   ],
   "metadata": {
    "collapsed": false,
    "pycharm": {
     "name": "#%%\n"
    }
   }
  },
  {
   "cell_type": "code",
   "execution_count": 30,
   "outputs": [],
   "source": [
    "tokens=javalang.tokenizer.tokenize(method)"
   ],
   "metadata": {
    "collapsed": false,
    "pycharm": {
     "name": "#%%\n"
    }
   }
  },
  {
   "cell_type": "code",
   "execution_count": 49,
   "outputs": [
    {
     "name": "stdout",
     "output_type": "stream",
     "text": [
      "Modifier \"public\" line 1, position 0\n",
      "Keyword \"void\" line 1, position 7\n",
      "Identifier \"method1\" line 1, position 12\n",
      "Separator \"(\" line 1, position 19\n",
      "BasicType \"int\" line 1, position 20\n",
      "Identifier \"i\" line 1, position 24\n",
      "Separator \")\" line 1, position 25\n",
      "Separator \"{\" line 1, position 26\n",
      "Identifier \"String\" line 2, position 2\n",
      "Identifier \"AaBoy\" line 2, position 9\n",
      "Operator \"=\" line 2, position 14\n",
      "Keyword \"new\" line 2, position 15\n",
      "Identifier \"String\" line 2, position 19\n",
      "Separator \"(\" line 2, position 25\n",
      "String \"\"123\"\" line 2, position 26\n",
      "Separator \")\" line 2, position 31\n",
      "Separator \";\" line 2, position 32\n",
      "BasicType \"int\" line 3, position 1\n",
      "Identifier \"b\" line 3, position 5\n",
      "Operator \"=\" line 3, position 6\n",
      "DecimalInteger \"1\" line 3, position 7\n",
      "Separator \";\" line 3, position 8\n",
      "Identifier \"System\" line 4, position 1\n",
      "Separator \".\" line 4, position 7\n",
      "Identifier \"out\" line 4, position 8\n",
      "Separator \".\" line 4, position 11\n",
      "Identifier \"println\" line 4, position 12\n",
      "Separator \"(\" line 4, position 19\n",
      "Identifier \"a\" line 4, position 20\n",
      "Separator \")\" line 4, position 21\n",
      "Separator \";\" line 4, position 22\n",
      "Separator \"}\" line 5, position 1\n"
     ]
    }
   ],
   "source": [
    "# for token in tokens:\n",
    "# \tprint(token)"
   ],
   "metadata": {
    "collapsed": false,
    "pycharm": {
     "name": "#%%\n"
    }
   }
  },
  {
   "cell_type": "code",
   "execution_count": 31,
   "outputs": [],
   "source": [
    "def generate_token_seq(tokens):\n",
    "\tlast_token=None\n",
    "\tt_seq = []\n",
    "\tfor token in tokens:\n",
    "\t\tif isinstance(token, javalang.tokenizer.String):\n",
    "\t\t\ttmp_token = [\"stringliteral\"]\n",
    "\t\telse:\n",
    "\t\t\ttmp_token = solve_camel_and_underline(token.value)\n",
    "\t\t\tif last_token is not None and isinstance(token, javalang.tokenizer.Identifier) and (\n",
    "\t\t\t\t\tisinstance(last_token, javalang.tokenizer.Identifier) or isinstance(last_token,\n",
    "\t\t\t\t\t\t\t\t\t\t\t\t\t\t\t\t\t\t\t\t\t\t   javalang.tokenizer.BasicType)) and last_token.value!='rank2fixstart':\n",
    "\t\t\t\tcur_token=tmp_token\n",
    "\t\t\t\ttmp_token=[]\n",
    "\t\t\t\ttype_token_seq = solve_camel_and_underline(last_token.value)\n",
    "\t\t\t\tfor t_token in cur_token:\n",
    "\t\t\t\t\ttmp_token.append([type_token_seq, cur_token[:cur_token.index(t_token)], t_token])\n",
    "\t\tlast_token=token\n",
    "\t\tt_seq += tmp_token\n",
    "\treturn t_seq"
   ],
   "metadata": {
    "collapsed": false,
    "pycharm": {
     "name": "#%%\n"
    }
   }
  },
  {
   "cell_type": "code",
   "execution_count": 32,
   "outputs": [],
   "source": [
    "t_s=generate_token_seq(tokens)"
   ],
   "metadata": {
    "collapsed": false,
    "pycharm": {
     "name": "#%%\n"
    }
   }
  },
  {
   "cell_type": "code",
   "execution_count": 33,
   "outputs": [
    {
     "data": {
      "text/plain": "['public',\n 'void',\n 'method',\n '(',\n 'int',\n [['int'], [], 'i'],\n ')',\n '{',\n 'rank2fixstart',\n 'string',\n [['string'], [], 'aa'],\n [['string'], ['aa'], 'boy'],\n '=',\n 'new',\n 'string',\n '(',\n 'stringliteral',\n ')',\n ';',\n 'rank2fixstart',\n 'int',\n [['int'], [], 'b'],\n '=',\n '1',\n ';',\n 'system',\n '.',\n 'out',\n '.',\n 'println',\n '(',\n 'a',\n ')',\n ';',\n '}']"
     },
     "execution_count": 33,
     "metadata": {},
     "output_type": "execute_result"
    }
   ],
   "source": [
    "t_s"
   ],
   "metadata": {
    "collapsed": false,
    "pycharm": {
     "name": "#%%\n"
    }
   }
  },
  {
   "cell_type": "code",
   "execution_count": null,
   "outputs": [],
   "source": [],
   "metadata": {
    "collapsed": false,
    "pycharm": {
     "name": "#%%\n"
    }
   }
  }
 ],
 "metadata": {
  "kernelspec": {
   "name": "conda-env-tf-py",
   "language": "python",
   "display_name": "Python [conda env:tf] *"
  },
  "language_info": {
   "codemirror_mode": {
    "name": "ipython",
    "version": 2
   },
   "file_extension": ".py",
   "mimetype": "text/x-python",
   "name": "python",
   "nbconvert_exporter": "python",
   "pygments_lexer": "ipython2",
   "version": "2.7.6"
  }
 },
 "nbformat": 4,
 "nbformat_minor": 0
}