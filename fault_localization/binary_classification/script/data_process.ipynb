{
 "cells": [
  {
   "cell_type": "code",
   "execution_count": 1,
   "metadata": {
    "collapsed": true
   },
   "outputs": [],
   "source": [
    "import os\n",
    "import javalang\n",
    "import pickle\n",
    "from gensim.models.word2vec import Word2Vec\n",
    "import numpy as np\n",
    "import re\n",
    "import string\n",
    "import random\n",
    "import sys"
   ]
  },
  {
   "cell_type": "code",
   "execution_count": 35,
   "outputs": [],
   "source": [
    "def solve_camel_and_underline(token):\n",
    "\tif token.isdigit():\n",
    "\t\treturn [token]\n",
    "\telse:\n",
    "\t\tp = re.compile(r'([a-z]|\\d)([A-Z])')\n",
    "\t\tsub = re.sub(p, r'\\1_\\2', token).lower() #lowercase\n",
    "\t\tsub_tokens = sub.split(\"_\")\n",
    "\t\ttokens = re.sub(\" +\", \" \", \" \".join(sub_tokens)).strip()\n",
    "\t\tfinal_token = []\n",
    "\t\tfor factor in tokens.split(\" \"):\n",
    "\t\t\tfinal_token.append(factor.rstrip(string.digits))\n",
    "\t\treturn final_token\n"
   ],
   "metadata": {
    "collapsed": false,
    "pycharm": {
     "name": "#%%\n"
    }
   }
  },
  {
   "cell_type": "code",
   "execution_count": 3,
   "outputs": [],
   "source": [
    "def cut_data(token_seq, token_length_for_reserve):\n",
    "\tif len(token_seq) <= token_length_for_reserve:\n",
    "\t\treturn token_seq\n",
    "\telse:\n",
    "\t\tstart_index = token_seq.index(\"rank2fixstart\")\n",
    "\t\tend_index = token_seq.index(\"rank2fixend\")\n",
    "\t\tassert end_index > start_index\n",
    "\t\tlength_of_annotated_statement = end_index - start_index + 1\n",
    "\t\tif length_of_annotated_statement <= token_length_for_reserve:\n",
    "\t\t\tpadding_length = token_length_for_reserve - length_of_annotated_statement\n",
    "\t\t\t# give 2/3 padding space to content before annotated statement\n",
    "\t\t\tpre_padding_length = padding_length // 3 * 2\n",
    "\t\t\t# give 1/3 padding space to content after annotated statement\n",
    "\t\t\tpost_padding_length = padding_length - pre_padding_length\n",
    "\t\t\tif start_index >= pre_padding_length and len(token_seq) - end_index - 1 >= post_padding_length:\n",
    "\t\t\t\treturn token_seq[start_index - pre_padding_length: end_index + 1 + post_padding_length]\n",
    "\t\t\telif start_index < pre_padding_length:\n",
    "\t\t\t\treturn token_seq[:token_length_for_reserve]\n",
    "\t\t\telif len(token_seq) - end_index - 1 < post_padding_length:\n",
    "\t\t\t\treturn token_seq[len(token_seq) - token_length_for_reserve:]\n",
    "\t\telse:\n",
    "\t\t\treturn token_seq[start_index: start_index + token_length_for_reserve]"
   ],
   "metadata": {
    "collapsed": false,
    "pycharm": {
     "name": "#%%\n"
    }
   }
  },
  {
   "cell_type": "code",
   "execution_count": 28,
   "outputs": [],
   "source": [
    "method='public void method1(int i){\\n String AaBoy=\"123\";\\nint b=1;\\nSystem.out.println(a);\\n}'"
   ],
   "metadata": {
    "collapsed": false,
    "pycharm": {
     "name": "#%%\n"
    }
   }
  },
  {
   "cell_type": "code",
   "execution_count": 42,
   "outputs": [],
   "source": [
    "tokens=javalang.tokenizer.tokenize(method)"
   ],
   "metadata": {
    "collapsed": false,
    "pycharm": {
     "name": "#%%\n"
    }
   }
  },
  {
   "cell_type": "code",
   "execution_count": 43,
   "outputs": [
    {
     "name": "stdout",
     "output_type": "stream",
     "text": [
      "Modifier \"public\" line 1, position 0\n",
      "Keyword \"void\" line 1, position 7\n",
      "Identifier \"method1\" line 1, position 12\n",
      "Separator \"(\" line 1, position 19\n",
      "BasicType \"int\" line 1, position 20\n",
      "Identifier \"i\" line 1, position 24\n",
      "Separator \")\" line 1, position 25\n",
      "Separator \"{\" line 1, position 26\n",
      "Identifier \"String\" line 2, position 2\n",
      "Identifier \"AaBoy\" line 2, position 9\n",
      "Operator \"=\" line 2, position 14\n",
      "String \"\"123\"\" line 2, position 15\n",
      "Separator \";\" line 2, position 20\n",
      "BasicType \"int\" line 3, position 1\n",
      "Identifier \"b\" line 3, position 5\n",
      "Operator \"=\" line 3, position 6\n",
      "DecimalInteger \"1\" line 3, position 7\n",
      "Separator \";\" line 3, position 8\n",
      "Identifier \"System\" line 4, position 1\n",
      "Separator \".\" line 4, position 7\n",
      "Identifier \"out\" line 4, position 8\n",
      "Separator \".\" line 4, position 11\n",
      "Identifier \"println\" line 4, position 12\n",
      "Separator \"(\" line 4, position 19\n",
      "Identifier \"a\" line 4, position 20\n",
      "Separator \")\" line 4, position 21\n",
      "Separator \";\" line 4, position 22\n",
      "Separator \"}\" line 5, position 1\n"
     ]
    }
   ],
   "source": [
    "for token in tokens:\n",
    "\tprint(token)"
   ],
   "metadata": {
    "collapsed": false,
    "pycharm": {
     "name": "#%%\n"
    }
   }
  },
  {
   "cell_type": "code",
   "execution_count": 38,
   "outputs": [
    {
     "data": {
      "text/plain": "['public',\n 'void',\n 'method',\n '(',\n 'int',\n 'i',\n ')',\n '{',\n 'string',\n 'aa',\n 'boy',\n '=',\n 'stringliteral',\n ';',\n 'int',\n 'b',\n '=',\n '1',\n ';',\n 'system',\n '.',\n 'out',\n '.',\n 'println',\n '(',\n 'a',\n ')',\n ';',\n '}']"
     },
     "execution_count": 38,
     "metadata": {},
     "output_type": "execute_result"
    }
   ],
   "source": [
    "token_seq = []\n",
    "for token in tokens:\n",
    "\tif isinstance(token, javalang.tokenizer.String):\n",
    "\t\ttmp_token = [\"stringliteral\"]\n",
    "\telse:\n",
    "\t\ttmp_token = solve_camel_and_underline(token.value)\n",
    "\ttoken_seq += tmp_token\n",
    "token_seq"
   ],
   "metadata": {
    "collapsed": false,
    "pycharm": {
     "name": "#%%\n"
    }
   }
  },
  {
   "cell_type": "code",
   "execution_count": 39,
   "outputs": [
    {
     "data": {
      "text/plain": "['public',\n 'void',\n 'method',\n '(',\n 'int',\n 'i',\n ')',\n '{',\n 'string',\n 'aa',\n 'boy',\n '=',\n 'stringliteral',\n ';',\n 'int',\n 'b',\n '=',\n '1',\n ';',\n 'system',\n '.',\n 'out',\n '.',\n 'println',\n '(',\n 'a',\n ')',\n ';',\n '}']"
     },
     "execution_count": 39,
     "metadata": {},
     "output_type": "execute_result"
    }
   ],
   "source": [
    "token_seq = cut_data(token_seq, 400)\n",
    "token_seq"
   ],
   "metadata": {
    "collapsed": false,
    "pycharm": {
     "name": "#%%\n"
    }
   }
  },
  {
   "cell_type": "code",
   "execution_count": 40,
   "outputs": [],
   "source": [
    "import numpy"
   ],
   "metadata": {
    "collapsed": false,
    "pycharm": {
     "name": "#%%\n"
    }
   }
  },
  {
   "cell_type": "code",
   "execution_count": 41,
   "outputs": [
    {
     "data": {
      "text/plain": "array([-0.4014179 , -0.8101859 ,  0.6383871 , -0.02164406, -0.18273085,\n        0.30205   , -0.2307939 , -0.23634952, -0.0442937 ,  0.9616296 ,\n       -0.04861814,  0.48687446, -0.7594701 ,  0.6961113 ,  0.28906095,\n        0.80593824, -0.3554451 , -0.24173546,  0.71193326,  0.74813926,\n        0.26511908, -0.05227613, -0.07112175, -0.22496974, -0.81174123,\n        0.35495436,  0.17889309, -0.36888832,  0.3848114 , -0.68600416,\n        0.17018974,  0.79196393, -0.95085657,  0.5725938 , -0.44184566,\n       -0.2081554 , -0.11338055, -0.3508793 , -0.44988394,  0.7097193 ,\n        0.01585782, -0.61670053,  0.9292754 ,  0.9496014 ,  0.8733978 ,\n       -0.65713894, -0.35889167,  0.94607747, -0.34000224, -0.43527395,\n        0.68230915,  0.46758568,  0.81382525, -0.15944463,  0.38465643,\n       -0.8910761 , -0.27743268, -0.47699684, -0.79335105, -0.05330712,\n        0.48233593, -0.7419014 ,  0.6015347 ,  0.5721489 , -0.29058605,\n        0.9627985 ,  0.9299158 ,  0.5814413 , -0.29668492,  0.6103554 ,\n        0.64965165, -0.09385371,  0.50885797,  0.05726075,  0.8500359 ,\n        0.89321005, -0.2458641 , -0.2517292 , -0.22611773, -0.86666167,\n        0.3260764 , -0.5149478 , -0.04201752, -0.75438046,  0.717751  ,\n        0.146958  , -0.96807635,  0.7489929 , -0.51660347,  0.06868219,\n       -0.10241526, -0.28280008,  0.2885605 , -0.38070637, -0.28259134,\n       -0.7889424 ,  0.8271208 ,  0.6777338 ,  0.01244962, -0.12732792,\n        0.4058063 ,  0.76360893,  0.74972844, -0.17448354,  0.5289161 ,\n       -0.06704336, -0.12461936, -0.32789916, -0.82138354,  0.9581207 ,\n        0.052953  , -0.06046015, -0.473315  , -0.12917131,  0.98680234,\n        0.78951013,  0.92639196, -0.00376445,  0.61986434,  0.5302906 ,\n       -0.12221479, -0.88996655,  0.06020129,  0.7594801 , -0.15912783,\n        0.34290993, -0.97626287, -0.44839948,  0.07368517,  0.8499534 ,\n        0.13957429, -0.3649031 , -0.03602505,  0.74939907, -0.6369613 ,\n        0.07854104, -0.6656597 ,  0.18420815,  0.7355461 , -0.5973948 ,\n       -0.61768615, -0.5078827 ,  0.5925869 ,  0.10396266, -0.35673606,\n       -0.4651755 ,  0.1047076 , -0.85851556, -0.17125916, -0.38290125,\n       -0.41455686,  0.6131357 ,  0.7529553 ,  0.48738468, -0.6049273 ,\n       -0.20924741,  0.9918679 ,  0.50695217, -0.5786865 ,  0.96165586,\n        0.12678027,  0.3515123 ,  0.8561405 ,  0.30469382, -0.9186293 ,\n       -0.08513361, -0.4462037 , -0.6065976 , -0.90347433, -0.3908912 ,\n       -0.5997154 ,  0.6834439 , -0.11403912, -0.37818784,  0.578699  ,\n       -0.828053  ,  0.92512393, -0.17798197, -0.68437886,  0.8539636 ,\n       -0.10042131, -0.17429918,  0.9282795 , -0.5919412 , -0.9518142 ,\n       -0.04478526,  0.04248869, -0.47479415,  0.44829595, -0.13062793,\n        0.29733884, -0.48731464,  0.6484978 , -0.49968266,  0.7578931 ,\n        0.67127883,  0.48155713, -0.8467678 ,  0.13557982, -0.40225434,\n        0.3739313 , -0.45223373,  0.555105  ,  0.27123833, -0.47726732,\n       -0.8645916 ,  0.54249334, -0.2154944 ,  0.4738114 , -0.42020226,\n       -0.97531575,  0.9269223 , -0.9631349 , -0.01394421,  0.9490311 ,\n       -0.8899995 , -0.23487544,  0.00944233,  0.79220295,  0.02670264,\n        0.9555739 ,  0.84000826, -0.45770055,  0.1937449 , -0.17718416,\n        0.5518044 ,  0.00931263,  0.81498206, -0.90799266, -0.26249695,\n        0.92293525,  0.50305605,  0.47491133,  0.8302218 ,  0.2974975 ,\n        0.49200535,  0.5007278 , -0.9630242 ,  0.7475368 ,  0.6817783 ,\n       -0.43911362,  0.01731527,  0.23519206, -0.20696431,  0.6323792 ,\n       -0.7396457 ,  0.6855447 , -0.35838932,  0.63420093,  0.9470459 ,\n        0.34988058,  0.6749841 ,  0.3274454 , -0.7331474 , -0.82298064,\n       -0.9691624 , -0.82427   , -0.70385456,  0.80333924, -0.72774035,\n       -0.3461625 , -0.63829386, -0.4517836 , -0.571905  , -0.8641573 ,\n        0.81263137,  0.6251805 , -0.2112543 , -0.49971956, -0.29251766,\n       -0.4430107 , -0.8284703 , -0.4204821 ,  0.7499299 ,  0.00623679,\n       -0.41925514, -0.28392452,  0.5811976 , -0.8342054 ,  0.95939267,\n       -0.18073726,  0.08235478,  0.66125655, -0.3076594 , -0.58310336,\n        0.6717007 , -0.2637326 , -0.8483131 , -0.7377846 ,  0.59905124,\n       -0.47402227,  0.88445985,  0.7583926 , -0.681874  ,  0.8249297 ,\n       -0.0893572 , -0.6802031 ,  0.6583859 ,  0.88192165, -0.37937248,\n       -0.3295582 , -0.6473301 , -0.17291188, -0.6217723 ,  0.41966486,\n        0.71291876, -0.92073256,  0.4933933 ,  0.06191766,  0.55553806,\n       -0.4849975 , -0.17173707,  0.43193722,  0.6550667 ,  0.71567273,\n       -0.6057054 , -0.9865709 , -0.19213367, -0.10441625, -0.9641228 ,\n        0.40474594, -0.5218742 , -0.24008262,  0.48155665,  0.44160748,\n        0.02990448,  0.729162  , -0.19909453,  0.01175225,  0.95499456,\n        0.37654567, -0.20783854, -0.99086934, -0.45945382, -0.4779001 ,\n        0.2453537 , -0.5933099 ,  0.2882204 , -0.6427754 ,  0.4891467 ,\n       -0.18345279, -0.7322562 ,  0.07706881, -0.8948536 , -0.1996476 ,\n       -0.7721042 , -0.6259235 ,  0.7705283 , -0.5212501 , -0.64265645,\n        0.06636465, -0.02545297, -0.35284656, -0.8246132 ,  0.3185053 ,\n        0.85093915, -0.10493547, -0.4831006 , -0.5023596 ,  0.08803046,\n       -0.41020715,  0.72519696,  0.6737517 ,  0.7220645 , -0.9824377 ,\n       -0.18960589,  0.40066767, -0.4007756 ,  0.6113279 , -0.38021517,\n        0.38521087, -0.68917966,  0.23150253,  0.35545886,  0.51159084,\n       -0.7484863 , -0.9437059 ,  0.5177171 ,  0.84023404,  0.26302934,\n        0.19649434,  0.24800158,  0.7072767 ,  0.2654376 ,  0.93275416,\n        0.18226218, -0.13437843,  0.89389503, -0.07582343, -0.34569734,\n       -0.10190988, -0.582127  , -0.7636242 ,  0.29646266,  0.16557252,\n       -0.33019358,  0.2114737 , -0.38490725, -0.78706086, -0.4000541 ],\n      dtype=float32)"
     },
     "execution_count": 41,
     "metadata": {},
     "output_type": "execute_result"
    }
   ],
   "source": [
    "a=np.random.random(400).astype(\"float32\") * 2 - 1\n",
    "a"
   ],
   "metadata": {
    "collapsed": false,
    "pycharm": {
     "name": "#%%\n"
    }
   }
  },
  {
   "cell_type": "code",
   "execution_count": null,
   "outputs": [],
   "source": [
    "with open(\"\")"
   ],
   "metadata": {
    "collapsed": false,
    "pycharm": {
     "name": "#%%\n"
    }
   }
  }
 ],
 "metadata": {
  "kernelspec": {
   "display_name": "Python 3",
   "language": "python",
   "name": "python3"
  },
  "language_info": {
   "codemirror_mode": {
    "name": "ipython",
    "version": 2
   },
   "file_extension": ".py",
   "mimetype": "text/x-python",
   "name": "python",
   "nbconvert_exporter": "python",
   "pygments_lexer": "ipython2",
   "version": "2.7.6"
  }
 },
 "nbformat": 4,
 "nbformat_minor": 0
}